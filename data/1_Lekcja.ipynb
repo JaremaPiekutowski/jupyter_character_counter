{
 "cells": [
  {
   "cell_type": "code",
   "execution_count": 1,
   "metadata": {
    "ExecuteTime": {
     "end_time": "2022-11-02T20:35:08.284592Z",
     "start_time": "2022-11-02T20:35:08.281071Z"
    }
   },
   "outputs": [],
   "source": [
    "#A: można dodać logo wasze na górze jako obraz\n",
    "#A: w tytule lekcji o czym będzie lekcja, np. 1_Lekcja_Witaj_Swiecie"
   ]
  },
  {
   "cell_type": "markdown",
   "metadata": {
    "lang": "pl"
   },
   "source": [
    "# Witaj świecie!\n",
    "\n",
    "Cześć i witaj w pierwszych zajęciach Dijkstra z Pythona!\n",
    "\n",
    "W ramach tego notatnika (kursu) nauczysz się:\n",
    "1. Jak notatniki Jupyter.\n",
    "2. Czym jest programowanie i do czego można programować języki programowania?\n",
    "3. Jak wypisuje komunikaty na ekran.\n",
    "4. Czym się różnią od siebie języki programowania i dlaczego to jest ważne."
   ]
  },
  {
   "cell_type": "markdown",
   "metadata": {},
   "source": [
    "## Spis treści\n",
    "\n",
    "- [1 - O tym jak używać notatników jupyter słów kilka](#1)\n",
    "- [2 - Program Witaj świecie!](#2)\n",
    "- [3 - Czym jest programowanie?](#3)\n",
    "    - [3.1- Komu wydajemy rozkazy? O procesorze i pamięci RAM słów kilka.](#3.1)\n",
    "    - [3.1.1 Jak wydawać rozkazy bardziej skomplikowane?](#3.1.1)\n",
    "    - [3.2 Interpreter języka Python](#3.2)\n",
    "    - [3.3 - O różnych językach](#3.3)\n",
    "    - [3.4 -Interpreter a kompilator](#3.4)\n",
    "- [4 - Podsumowanie](#4)"
   ]
  },
  {
   "cell_type": "markdown",
   "metadata": {
    "pycharm": {
     "name": "#%% md\n"
    }
   },
   "source": [
    "<a name='1'></a>\n",
    "## 1 - O tym jak używać notatników jupyter słów kilka.\n",
    "\n",
    "(Czym są notatniki Jupiter?)\n",
    "\n",
    "(Na początku wszystko będzie skomplikowane, ale krok po kroku przeprowadzimy Cię przez wszystko)\n",
    "\n",
    "(SHift+enter, żeby runnować code i powrócić - tryb pisania jak klikasz, Ctrl+Z cofnij)\n",
    "\n",
    "(Ten tekst jest jednocześnie kodem i podręcznikiem)\n",
    "\n",
    "Jak zapewne już zauważyłeś poniższy tekst został podzielony na komórki (takie jakby paragrafy). W szczególności, jeśli zobaczysz komórkę `In` oraz `[]` z ewentualnym numerem, to oznacza to, że ta komórka zawiera kod jezyka __Python__. W szczególności, jeśli komórka została już przez Ciebie wywołana to przy `In` pojawi się numer co oznacza, że ta komórka została przez Ciebie wywołana.\n",
    "\n",
    "(Na pierwszy rzut oka takie przedstawienie tekstu i taka forma może wydawać się nowa i mało intuicyjna.)\n",
    "\n",
    "Jednak __Zaletą__ tego systemu prezentacji tekstu oraz programów jest to, że dany temat masz omówiony w jednym miejscu, w ramach jednego rozdziału. Z drugiej strony możesz \"puszczać\" program / programy po kawałeczku, aby po kolei patrzeć co się dzieje. Dlatego właśnie notatniki jupyter są tak wygodne do nauki, jak i do testowania nowych idei! \n",
    "\n",
    "_Sam tak pracuję na codzień, kiedy chcę przetestować jakąś nową ideę czy funkcjonalność lub przeanalizować jakiś złośliwy fragment kodu_.\n",
    " \n",
    " \n",
    "W głównym tekście na szaro będziemy pisać elementy kodu tak jak są one zapisywane w języku Python. Na przykład tak `print(\"Hello world!)`. Wtedy nie będą one wywoływane, a jedynie będą pokazane jako wprowadzenie do nowej składni lub jako pewna podpowiedź. <font color='red'>#A: brakuje \"</font>\n",
    "\n",
    "Przy użyciu `>>>` będziemy zapisywać wielo-linijkowe polecenia Pythona, jak również to co się stanie po wykonaniu pewnego polecenia. Gdybyś używał Pythona w terminalu / wierszu poleceń to tak właśnie by to wyglądało.\n",
    "\n",
    "```python\n",
    ">>> print(\"Hello world!) #A: brakuje \"\n",
    ">>> Hello world!\n",
    "```\n",
    "Jak zapewne zauważyłeś, Python koloruje składnię dla Twojej wygody. Przykładowo na zielono oznacza funkcje wbudowane, zaś na czerwono zmienne typu napisowego. (Później wyjaśnimy co to oznacza) \n",
    "  \n",
    "__Przejdźmy do naszego pierwszego programu!__"
   ]
  },
  {
   "cell_type": "code",
   "execution_count": null,
   "metadata": {},
   "outputs": [],
   "source": [
    "#A: przy Hello world brakuje apostrofa \""
   ]
  },
  {
   "cell_type": "markdown",
   "metadata": {
    "pycharm": {
     "name": "#%% md\n"
    }
   },
   "source": [
    "<a name='2'></a>\n",
    "## 2 - Program Witaj świecie!\n",
    "\n",
    "Zwyczajowo pierwszym programem jaki pisze programista to program, który ma wypisać na ekran komunikat: \"Hello world!\". To są Twoje pierwsze słowa, które komputer wypisał na ekran.\n",
    "\n",
    "Aby to zrobić, w języku Python piszemy po prostu `print(\"Hello world!\")`.\n",
    "\n",
    "Aby wywołać program po prostu kliknij __Shift__ i __Enter__ albo __Ctrl__ i __Enter__ w komórce `print(...)` i zobacz co się stanie. (Możesz też tam wpisać cokolwiek innnego, na co masz ochotę)."
   ]
  },
  {
   "cell_type": "code",
   "execution_count": 3,
   "metadata": {
    "pycharm": {
     "is_executing": true,
     "name": "#%%\n"
    },
    "scrolled": true
   },
   "outputs": [
    {
     "name": "stdout",
     "output_type": "stream",
     "text": [
      "Hello World!\n"
     ]
    }
   ],
   "source": [
    "print(\"Hello World!\")"
   ]
  },
  {
   "cell_type": "markdown",
   "metadata": {},
   "source": [
    "__Spróbuj jeszcze raz__"
   ]
  },
  {
   "cell_type": "code",
   "execution_count": 5,
   "metadata": {},
   "outputs": [
    {
     "name": "stdout",
     "output_type": "stream",
     "text": [
      "Ta książka jest super!\n"
     ]
    }
   ],
   "source": [
    "print(\"Ta książka jest super!\")"
   ]
  },
  {
   "cell_type": "markdown",
   "metadata": {
    "pycharm": {
     "name": "#%% md\n"
    }
   },
   "source": [
    "Jak zapewne się domyśliłeś polecenie ```print(...)``` wypisze nam na ekran to co mu napiszemy w `...`. Na przykład:\n",
    "```print(2)``` wypisze nam na ekran liczbe 2.\n",
    "\n",
    "__Spróbuj sam!__"
   ]
  },
  {
   "cell_type": "code",
   "execution_count": null,
   "metadata": {},
   "outputs": [],
   "source": [
    "print(2)"
   ]
  },
  {
   "cell_type": "markdown",
   "metadata": {
    "pycharm": {
     "name": "#%% md\n"
    }
   },
   "source": [
    "### Proste prawda?\n",
    "\n",
    "Ale też trochę rozczarowujące, prawda? \n",
    "\n",
    "Ale to tylko wstęp!\n",
    "\n",
    "Zanim napiszemy nasze kolejne (już mniej rozczarowujące programy), dowiedzmy się najpierw czym właściwie jest programowanie."
   ]
  },
  {
   "cell_type": "markdown",
   "metadata": {
    "pycharm": {
     "name": "#%% md\n"
    }
   },
   "source": [
    "<a name='3'></a>\n",
    "## 3 - Czym jest programowanie?\n",
    "\n",
    "Programowanie to rozmowa z komputerem i wydawanie mu rozkazów, tak, żeby maszyna zrobiła, to co my chcemy. Programowanie bardzo przypomina wydawanie rozkazów wojsku na polu bitwy. Ty jesteś generałem, język programowania adiutantem przekazującym Twoje rozkazy, a komputer żołnierzem. \"Rozkaz musi być jasny i prosty\" <sup>[1](#myfootnote1)</sup>. Jeśli rozkaz jest zrozumiały to jest szansa, że bitwa zostanie wygrana, ponadto jeśli jest prosty to jest większa szansa, że adiutant nas dobrze zrozumie w zgiełku bitwy i dobrze przekaże rozkaz żołnierzom (zreformułować). Nazywamy to regułą KISS od angielskiego _Keep it simple, stupid_. Pisanie kodu w ten sposób wydatnie pomaga komputerowi w jego zrozumieniu. Jedyna różnica między adiutantem, żołnierzami, a komputerem jest taka, że komputer od razu powie, że nie rozumie i powie nam czego nie rozumie. Być może wydaliśmy mu rozkać ataku na twierdzę na księżycu, a tego nie potrafi zrobić, często powie nam on także dlaczego nie potrafi tego zrobić:\n",
    "1. Być może nie ma takiej technologii (takiego polecenia).\n",
    "2. Może ma za mało żołnierzy, żeby zbudować z nich taką drabinę (ma za mało tyle pamięci/ mocy obliczeniowej).\n",
    "3. A może nie rozumie co to jest księżyc (takiej zmiennej / funkcji). (wytłumaczyć co to zmienna i funkcja)\n",
    "4. Lub ma inne powody.\n",
    "\n",
    "Komputer zazwyczaj powie nam gdzie i dlaczego nie rozumie. Nie ma w tym nic złego. W programowaniu bardziej niż gdziekolwiek uczymy się na błędach, tzw. bugach. Ponadto czasem ktoś inny źle użyje naszego kodu, na przykład wyobraźcie sobie dziecko z pistoletem. W 4_Lekcji opowiemy jakie mechanizmy ma Python, aby przed tym zabezpieczyć."
   ]
  },
  {
   "cell_type": "markdown",
   "metadata": {},
   "source": [
    "<a name='3.1'></a>\n",
    "### 3.1- Komu wydajemy rozkazy? O procesorze i pamięci słów kilka.\n",
    "\n",
    "Wiemy, że jako programiści jesteśmy generałami, ale kim są nasi żołnierze i nasz adiutant?\n",
    "\n",
    "Aby to zrozumieć, wyobraźmy sobie 3 żołnierzy stojących w trójkącie z flagami w rękach [[1](#myfootnote1)]. Dwóch stojących bliżej ma podnosić flagi jak im każemy, na przykład pokazując w nich palcem i krzycąc: __TY i TY__ flagi do góry!\n",
    "\n",
    "Trzeci ma zadanie trudniejsze: musi podnieść flagę tylko wtedy kiedy obaj podniosą flagi.\n",
    "\n",
    "Generalnie nasi żołnierze umieją tylko dwie rzeczy: podnieść flagę lub ją opuścić - są bardzo głupi co nie? Podniesienie flagi oznacza __jest sygnał__, które oznaczamy jako __jeden__, trzymanie flagi opuszczonej oznacza brak sygnału, czyli __zero__. Dlatego mówimy, że komputer rozumie tylko zera i jedynki. Opisana powyżej sytuacja to właśnie tak zwana bramka logiczna __And__. Możemy to zapisać przy pomocy tak zwanej tabelki logicznej. Przykłady różnych bramek znajdziesz poniżej.(poprawić jakość grafiki)\n",
    "\n",
    "<img src=\"images/bramki_logiczne.JPG\" alt=\"drawing\" width=\"600\"/>\n",
    "\n",
    "### 3.1.1 Jak wydawać rozkazy bardziej skomplikowane?\n",
    "\n",
    "__Nie da się!__\n",
    "\n",
    "Natomiast żołnierzy (bramek logicznych) w komputerze jest setki tysięcy tysiąców tysięcy, a pewnie i więcej. Zatem łącząc ich możemy wydawać nawet bardzo skomplikowane rozkazy.\n",
    "\n",
    "W naszym komputerze są dwa rodzaje żołnierzy:\n",
    "- processor\n",
    "- pamięć [[2](#myfootnote2)]\n",
    "\n",
    "Jedni bardzo szybko potrafią podnosić i opuszczać flagi (processor), drudzy są bardzo silni i mogą trzymać flagi uniesione bardzo długo (pamięć).\n",
    "\n",
    "Wykonywanie programu można sobie wyobrazać jako nieustającą komunikację między pamięcią, a processorem.(grafika po polsku i ją lepiej opisać).\n",
    "\n",
    "<img src=\"images/memory_processor.JPG\" alt=\"drawing\" width=\"400\"/>\n",
    "\n",
    "Okazuje się, że system zero-jedynkowej logiki (tak zwanej logiki dwuwartościowej, zwanej także algebrą Boole'a) jest świetnie realizowany poprzez układy elektroniczne. Wartość 'jeden' jest reprezentowana jako pewien sygnał elektryczny, zaś 'zero' jako brak takowego sygnału. Także zbudowanie układu elektronicznego realizującego np. funkcję __NAND__ (co to jest funkcja nand?) nie nastręcza problemów technicznych. Takie bramki buduje się przy użyciu tranzystorów.\n",
    "\n",
    "__Zaraz zaraz__\n",
    "\n",
    "Ale jak się ma to do przed chwilą wywołanego programu wypisującego na ekran `Hello world!` i gdzie są Ci moi żołnierze? Gdzie ja zapisuje do pamięci i macham tymi flagami. O tym opowiemy w następnej kolejności."
   ]
  },
  {
   "cell_type": "markdown",
   "metadata": {},
   "source": [
    "<a name='3.2'></a>\n",
    "### 3.2 - Interpreter języka Python\n",
    "\n",
    "W dużej bitwie generał jest bardzo zajęty i potrzebuje wielu adiutantów, którzy lepiej dogadują się z żołnierzami i potrafią mówić ich językiem. Prości żołnierze nie rozumieją często takich słów jak _blitzkrieg_, natomiast doskonale i szybko rąbią wroga. <font color='red'>#A: rąbią wroga?? </font>\n",
    "\n",
    "<font color='red'>#A: Kto to adiutant? to wszystko o wojnie brzmi jak bajka dla chłopców </font>\n",
    "\n",
    "Twoim najlepszym adiutantem na tym kursie będzie interpreter języka Python, który będzie czytał Twoje rozkazy linijka po linijce i linijka po linijce będzie je tłumaczył żołnierzom.\n",
    "\n",
    "Przykładowo w naszym programie `print(\"Hello world!\")` mogłoby to wyglądać następująco: (dopracować metaforę)\n",
    "- Adiutant: Hej wy tam powiedzcie monitorowi, że ma coś wypisać na ekran!\n",
    "- Adiutant: Żołnierze: Ale co ma wypisać?\n",
    "- Żołnierze: Dawać mi tu dywizję litery H, cholera gdzie ona się podziała. Poszukam jej w pamięci. O dobra JEST!\n",
    "- Adiutant: No dobra mam \"H\" to teraz niech ja znajdę tych nicponi od e, cholera gdzie oni są.\n",
    "- ITP itd.\n",
    "- Tak Panie tak się stanie.\n",
    "Kiedy to się skończy to komputer wypisze na ekran `>>> Hello world!` i będzie czekał na dalsze rozkazy.\n",
    "\n",
    "Kiedyś każdą z tych operacji trzeba było zaprogramować. Instrukcje tego typu nazywa się rozkazami procesora. I kiedyś programowanie polegało na podawaniu kolejnych rozkazów procesorowi. \n",
    "\n",
    "Natomiast dzisiaj możemy rozwiązać to prostym `print(\"Hello world!)` i skupić się na tym co naprawdę ważne, a całą resztę wykona za nas adiutant (Interpreter). Jedyna różnica jest taka, że jak on nas nie rozumie to nie możemy mu dać w twarz (to znaczy możemy, ale raczej popsujemy komputer niż coś zyskamy), a musimy mu tłumaczyć tak długo aż nas zrozumie.\n",
    "\n",
    "<a name=\"myfootnote1\">1</a>: Analogię tą zawdzięczam książce _Problem Trzech ciał_ autorstwa Cixin Liu, gdzie komputer oparty o żołnierzy armii chińskiej był używany do prognozowania \"pór\" roku na planecie okrążającej układ potrójny gwiazd. Było to kluczowe, ponieważ od poprawności przewidywań zależało być lub nie być cywilizacji. \n",
    "\n",
    "<a name=\"myfootnote2\">2</a>: Dla ułatwienia będziemy mówić o pamięci wewnętrznej procesora i będziemy pomijać nieistotne tutaj szczegóły techniczne."
   ]
  },
  {
   "cell_type": "markdown",
   "metadata": {},
   "source": [
    "<a  name='3.3'></a>\n",
    "### 3.3 - O różnych językach\n",
    "Różne języki programowania mają różne sposoby na wydawanie poleceń. Przykładowo w C++ ten sam program wygląda inaczej: \n",
    "```\n",
    "std::cout<<\"Hello world\"<<std::endl\n",
    "``` \n",
    "\n",
    "lub  bardziej podobne `printf(\"Hello world\")`. W Javie wygląda to jakoś dziwacznie:\n",
    "```\n",
    "class HelloWorld {\n",
    "    public static void main(String[] args) {\n",
    "        System.out.println(\"Hello, World!\"); \n",
    "    }\n",
    "}\n",
    "```\n",
    "Zaś w assemblerze (gdzie jedna linijka kodu to jeden rozkaz procesora) systemu DOS wygląda to jeszcze gorzej:\n",
    "```\n",
    "org 100h\n",
    "mov dx,msg\n",
    "mov ah,9\n",
    "int 21h\n",
    "mov ah,4Ch\n",
    "int 21h\n",
    "msg db 'Hello, World!',0Dh,0Ah,'$'\n",
    "```\n",
    "Spokojnie nie musisz nawet wiedzieć co to oznacza (ja też nie wiem). Dlatego w dzisiejszych czasach używa się języków programowania, gdzie jedna instrukcja jest instrukcją zrozumiałą dla nas, a nie dla procesora i musi być dla niego tłumaczona. To tłumaczenie zajmuje czas, jednak dzisiaj komputery są na tyle szybkie, że nie ma to aż takiego znaczenia. Istnieją języki, które pozwalają na pracę bliżej procesora (tzw. niskopoziomowe), na przykład na ręczne zarządzanie pamięcią. \n",
    "\n",
    "Języki te są z reguły szybsze, natomiast odbywa się to za cenę klarowności instrukcji dla człowieka oraz niższą przenośnością (interoperatywnością?) na różne systemy operacyjne. Takim sztandarowym językiem jest język C i jego rozszerzenia takie jak C++. Z drugiej strony istnieją języki wysokopoziomowe, które mają zwykle bardziej klarowną składnię, natomiast dzieje się to kosztem wydajności. Python należy do języków wysokopoziomowych i stąd jest dobrym wyborem jako pierwszy język programowania dla początkującyh. Należy mieć na uwadze, że wiele rzeczy dzieje się tam \"pod maską\" i jest zarządzane automatycznie, takie jak typowanie oraz pamięć (o których w kolejnych rozdziałach). Na codzień nie musimy o nich pamiętać, jednak w niektórych zastowaniach, na przykład w trenowaniu sieci neuronowych warto mieć to na uwadze."
   ]
  },
  {
   "cell_type": "markdown",
   "metadata": {},
   "source": [
    "<a  name='3.4'></a>\n",
    "### 3.4 - Interpreter a kompilator\n",
    "\n",
    "Generałowie sztabowi na ogół nie lubią szumu bitwy i wolą w sztabie wydać rozkazy i potem czekać na ostateczny wynik bitwy. Tak można sobie wyobrażać języki kompilowane. W tych językach program zanim zostanie wykonany musi być przetłumaczony na język maszynowy i dopiero wtedy może być wykonany. Standardowo taki program przetłumaczony na język maszynowy (zer i jedynek) ma rozszerzenie `.exe` na komputerach z systemem operacyjnym Windows, które na pewno już w życiu widziałeś. \n",
    "\n",
    "Jak się zapewne domyślasz takie tłumaczenie kodu zajmuje trochę czasu. Co prawda kompilacja zajmuje czas, ale potem ten program wynikowy jest bardzo szybki. Alternatywnie można tłumaczyć wszystko na bieżąco, tak jak tłumacze symultaniczni lub generałowie w środku pola bitwy. Zajmie to trochę czasu, ale można mieć nadzieję, że się nadąży za mówiącym i program nie będzie zbyt wolny. Daje to więcej swobody i zapewnia przenośność oprogramowania [[3](#myfootnote2)]. Ponadto powzala to na testowanie kodu dosłownie linijka po linijce tak jak my robimy w tych notebookach.\n",
    "\n",
    "Python jest właśnie językiem interpretowanym  [[4](#myfootnote3)] i pozwala na dosyć oszczędną składnię i na wykonywanie zadań programistycznych dosyć prostym kodem, jak się dalej przekonamy. Ma też parę 'bajerów' pozwalających na nieoczekiwaną w innych językach składnię, tak zwaną pythoniastą składnię. Standardowym rozszerzeniem programów w Pythonie jest __.py__, a Notebooków __.ipynb__.\n",
    "\n",
    "Python jest z tego względu dosyć prosty do nauczenia się i jest jednym dwóch najpopularniejszych języków w Data Science, gdzie ważniejsza jest prostota kodu niż jego szybkość, gdyż nasze oprogramowanie zazwyczaj nie musi działać w czasie rzeczywistym.\n",
    "\n",
    "<a name=\"myfootnote2\">3</a>: Oprogramowanie jest bieżąco tłumaczone na język procesora, a każdy typ procesora, tzw. architetektura, na przykład x86 firmy Intel ma różny zestaw rozkazów, przez co kod musi być jednorazowo kompilowany dla każdego typu komputera. Dlatego nie ma dużo gier na Apple, zwłaszcza z procesorem ARM.\n",
    " \n",
    "<a name=\"myfootnote3\">4</a>: Język Python może być również kompilowany do C, mówimy wtedy o Cythonie czy do kodu na maszynę wirtualną Javy, wtedy mówimy o Jythonie."
   ]
  },
  {
   "cell_type": "markdown",
   "metadata": {},
   "source": [
    "<a  name='4'></a>\n",
    "## 4  Podsumowanie\n",
    "\n",
    "Podsumujmy czego się dotychczas dowiedziałeś:\n",
    "1. Języki programowania pozwalają na komunikowanie się z komputerem i wykonywanie rozkazów procesora oraz zapisywanie w pamięci.\n",
    "2. Istnieją różne języki programowania, które w różny sposób się komunikują z komputerem.\n",
    "3. Python jest językiem interpretowanym, co oznacza, że tłumaczy instrukcje na język procesora 'w trakcie trwania programu' ."
   ]
  }
 ],
 "metadata": {
  "kernelspec": {
   "display_name": "Python 3 (ipykernel)",
   "language": "python",
   "name": "python3"
  },
  "language_info": {
   "codemirror_mode": {
    "name": "ipython",
    "version": 3
   },
   "file_extension": ".py",
   "mimetype": "text/x-python",
   "name": "python",
   "nbconvert_exporter": "python",
   "pygments_lexer": "ipython3",
   "version": "3.8.5"
  },
  "nbTranslate": {
   "displayLangs": [
    "pl"
   ],
   "hotkey": "alt-t",
   "langInMainMenu": true,
   "sourceLang": "en",
   "targetLang": "pl",
   "useGoogleTranslate": true
  },
  "toc": {
   "base_numbering": 1,
   "nav_menu": {},
   "number_sections": true,
   "sideBar": true,
   "skip_h1_title": false,
   "title_cell": "Table of Contents",
   "title_sidebar": "Contents",
   "toc_cell": false,
   "toc_position": {},
   "toc_section_display": true,
   "toc_window_display": false
  },
  "varInspector": {
   "cols": {
    "lenName": 16,
    "lenType": 16,
    "lenVar": 40
   },
   "kernels_config": {
    "python": {
     "delete_cmd_postfix": "",
     "delete_cmd_prefix": "del ",
     "library": "var_list.py",
     "varRefreshCmd": "print(var_dic_list())"
    },
    "r": {
     "delete_cmd_postfix": ") ",
     "delete_cmd_prefix": "rm(",
     "library": "var_list.r",
     "varRefreshCmd": "cat(var_dic_list()) "
    }
   },
   "types_to_exclude": [
    "module",
    "function",
    "builtin_function_or_method",
    "instance",
    "_Feature"
   ],
   "window_display": false
  }
 },
 "nbformat": 4,
 "nbformat_minor": 4
}
